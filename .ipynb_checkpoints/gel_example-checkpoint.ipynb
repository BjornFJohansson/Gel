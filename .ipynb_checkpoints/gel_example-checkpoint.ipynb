{
 "cells": [
  {
   "cell_type": "code",
   "execution_count": 17,
   "metadata": {
    "collapsed": false
   },
   "outputs": [],
   "source": [
    "import pydna\n",
    "from Bio.Restriction import BamHI, EcoRV\n",
    "from gel import Gel, ladders"
   ]
  },
  {
   "cell_type": "code",
   "execution_count": 2,
   "metadata": {
    "collapsed": false
   },
   "outputs": [],
   "source": [
    "gb = pydna.Genbank(\"bjornjobb@gmail.com\") # Tell Genbank who you are!"
   ]
  },
  {
   "cell_type": "code",
   "execution_count": 3,
   "metadata": {
    "collapsed": true
   },
   "outputs": [],
   "source": [
    "gene = gb.nucleotide(\"X06997\") # Kluyveromyces lactis LAC12 gene for lactose permease."
   ]
  },
  {
   "cell_type": "code",
   "execution_count": 4,
   "metadata": {
    "collapsed": true
   },
   "outputs": [],
   "source": [
    "primer_f, primer_r = pydna.parse(''' >760_KlLAC12_rv (20-mer)\n",
    "                                     ttaaacagattctgcctctg\n",
    "\n",
    "                                     >759_KlLAC12_fw (19-mer)\n",
    "                                     aaatggcagatcattcgag\n",
    "                                     ''', ds=False)"
   ]
  },
  {
   "cell_type": "code",
   "execution_count": 5,
   "metadata": {
    "collapsed": true
   },
   "outputs": [],
   "source": [
    "pcr_prod = pydna.pcr(primer_f, primer_r, gene)"
   ]
  },
  {
   "cell_type": "code",
   "execution_count": 6,
   "metadata": {
    "collapsed": true
   },
   "outputs": [],
   "source": [
    "vector = gb.nucleotide(\"AJ001614\") # pCAPs cloning vector"
   ]
  },
  {
   "cell_type": "code",
   "execution_count": 7,
   "metadata": {
    "collapsed": true
   },
   "outputs": [],
   "source": [
    "lin_vector = vector.linearize(EcoRV)"
   ]
  },
  {
   "cell_type": "code",
   "execution_count": 8,
   "metadata": {
    "collapsed": true
   },
   "outputs": [],
   "source": [
    "rec_vec = (lin_vector + pcr_prod).looped()"
   ]
  },
  {
   "cell_type": "code",
   "execution_count": 9,
   "metadata": {
    "collapsed": false
   },
   "outputs": [
    {
     "data": {
      "text/plain": [
       "1766"
      ]
     },
     "execution_count": 9,
     "metadata": {},
     "output_type": "execute_result"
    }
   ],
   "source": [
    "len(pcr_prod)"
   ]
  },
  {
   "cell_type": "code",
   "execution_count": 10,
   "metadata": {
    "collapsed": false
   },
   "outputs": [
    {
     "data": {
      "text/plain": [
       "4894"
      ]
     },
     "execution_count": 10,
     "metadata": {},
     "output_type": "execute_result"
    }
   ],
   "source": [
    "len(rec_vec)"
   ]
  },
  {
   "cell_type": "code",
   "execution_count": 11,
   "metadata": {
    "collapsed": false
   },
   "outputs": [
    {
     "data": {
      "text/plain": [
       "3128"
      ]
     },
     "execution_count": 11,
     "metadata": {},
     "output_type": "execute_result"
    }
   ],
   "source": [
    "len(lin_vector)"
   ]
  },
  {
   "cell_type": "code",
   "execution_count": 12,
   "metadata": {
    "collapsed": true
   },
   "outputs": [],
   "source": [
    "sample = [pcr_prod, rec_vec, lin_vector]"
   ]
  },
  {
   "cell_type": "code",
   "execution_count": 13,
   "metadata": {
    "collapsed": false
   },
   "outputs": [],
   "source": [
    "lanes = [sample]"
   ]
  },
  {
   "cell_type": "code",
   "execution_count": 14,
   "metadata": {
    "collapsed": true
   },
   "outputs": [],
   "source": [
    "G = Gel(lanes)"
   ]
  },
  {
   "cell_type": "code",
   "execution_count": 15,
   "metadata": {
    "collapsed": false
   },
   "outputs": [],
   "source": [
    "x=G.run()"
   ]
  },
  {
   "cell_type": "code",
   "execution_count": null,
   "metadata": {
    "collapsed": false
   },
   "outputs": [],
   "source": [
    "ladders.keys()"
   ]
  },
  {
   "cell_type": "code",
   "execution_count": null,
   "metadata": {
    "collapsed": false
   },
   "outputs": [],
   "source": [
    "G = Gel(lanes, ladder='1kb_GeneRuler')\n",
    "G.run()"
   ]
  },
  {
   "cell_type": "code",
   "execution_count": 18,
   "metadata": {
    "collapsed": false
   },
   "outputs": [
    {
     "data": {
      "text/plain": [
       "{'1kb+_GeneRuler': {'masses': <Quantity([20 20 20 75 20 20 20 80 25 25 75 25 25 25 25], 'nanogram')>,\n",
       "  'sizes': <Quantity([20000 10000  7000  5000  4000  3000  2000  1500  1000   700   500   400\n",
       "     300   200    75], 'base_pair')>,\n",
       "  'total mass': <Quantity(0.5, 'microgram')>},\n",
       " '1kb_GeneRuler': {'masses': <Quantity([30 30 70 30 30 30 70 25 25 25 60 25 25 25], 'nanogram')>,\n",
       "  'sizes': <Quantity([10000  8000  6000  5000  4000  3500  3000  2500  2000  1500  1000   750\n",
       "     500   250], 'base_pair')>,\n",
       "  'total mass': <Quantity(0.5, 'microgram')>},\n",
       " 'High_Range_GeneRuler': {'masses': <Quantity([80 88 80 59 59 50 47 37], 'nanogram')>,\n",
       "  'sizes': <Quantity([48502 24508 20555 17000 15258 13825 12119 10171], 'base_pair')>,\n",
       "  'total mass': <Quantity(0.5, 'microgram')>},\n",
       " 'Mix_GeneRuler': {'masses': <Quantity([18 18 18 18 18 18 60 16 16 16 16 60 17 17 17 17 60 20 20 20 20], 'nanogram')>,\n",
       "  'sizes': <Quantity([10000  8000  6000  5000  4000  3500  3000  2500  2000  1500  1200  1000\n",
       "     900   800   700   600   500   400   300   200   100], 'base_pair')>,\n",
       "  'total mass': <Quantity(0.5, 'microgram')>}}"
      ]
     },
     "execution_count": 18,
     "metadata": {},
     "output_type": "execute_result"
    }
   ],
   "source": [
    "ladders"
   ]
  },
  {
   "cell_type": "code",
   "execution_count": null,
   "metadata": {
    "collapsed": true
   },
   "outputs": [],
   "source": []
  }
 ],
 "metadata": {
  "kernelspec": {
   "display_name": "Python 2",
   "language": "python",
   "name": "python2"
  },
  "language_info": {
   "codemirror_mode": {
    "name": "ipython",
    "version": 2
   },
   "file_extension": ".py",
   "mimetype": "text/x-python",
   "name": "python",
   "nbconvert_exporter": "python",
   "pygments_lexer": "ipython2",
   "version": "2.7.11"
  }
 },
 "nbformat": 4,
 "nbformat_minor": 0
}
